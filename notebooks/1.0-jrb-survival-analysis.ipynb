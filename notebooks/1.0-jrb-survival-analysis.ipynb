{
 "cells": [
  {
   "cell_type": "code",
   "execution_count": 1,
   "metadata": {},
   "outputs": [],
   "source": [
    "import pandas as pd\n",
    "import numpy as np"
   ]
  },
  {
   "cell_type": "code",
   "execution_count": 2,
   "metadata": {},
   "outputs": [],
   "source": [
    "df = pd.read_excel(\"../data/raw/Trasplantes 2011-2022 16082023.xlsx\", sheet_name=\"bdgrd\")"
   ]
  },
  {
   "cell_type": "code",
   "execution_count": 4,
   "metadata": {},
   "outputs": [
    {
     "data": {
      "text/plain": [
       "Index(['rut', 'dv', 'Fecha Nacimiento', 'Edad en años',\n",
       "       'Prevision ( Cod+Desc )', 'Servicio Salud (des)',\n",
       "       'Diag 01 Principal (cod+des)', 'Proced 01 Principal (cod+des)',\n",
       "       '1ra Intervención Fecha', 'Fecha de trasplante', 'Fecha de egreso',\n",
       "       'Motivo Egreso (Descripción)', 'Egresos', 'Fallecido (Si/No)',\n",
       "       'Fecha fallecimiento', 'fecha tx', 'año intervencion', 'año tx',\n",
       "       'tipo'],\n",
       "      dtype='object')"
      ]
     },
     "execution_count": 4,
     "metadata": {},
     "output_type": "execute_result"
    }
   ],
   "source": [
    "df.columns"
   ]
  },
  {
   "cell_type": "code",
   "execution_count": 6,
   "metadata": {},
   "outputs": [],
   "source": [
    "columnas_utiles = [\"1ra Intervención Fecha\", \"Fecha fallecimiento\"]\n",
    "fecha_corte = pd.to_datetime(\"16/08/2023\", dayfirst=True)"
   ]
  },
  {
   "cell_type": "code",
   "execution_count": 30,
   "metadata": {},
   "outputs": [],
   "source": [
    "df_sobrevivencia = df[columnas_utiles].copy()\n",
    "df_sobrevivencia.columns = [\"fecha_trasplante\", \"fecha_muerte\"]"
   ]
  },
  {
   "cell_type": "code",
   "execution_count": 31,
   "metadata": {},
   "outputs": [],
   "source": [
    "df_sobrevivencia[\"fecha_tope\"] = df_sobrevivencia[\"fecha_muerte\"].fillna(fecha_corte)\n",
    "df_sobrevivencia[\"duracion_dias\"] = (\n",
    "    df_sobrevivencia[\"fecha_tope\"] - df_sobrevivencia[\"fecha_trasplante\"]\n",
    ").dt.days\n",
    "df_sobrevivencia[\"muerto\"] = df_sobrevivencia[\"fecha_muerte\"].notna()"
   ]
  },
  {
   "cell_type": "code",
   "execution_count": 32,
   "metadata": {},
   "outputs": [
    {
     "data": {
      "text/html": [
       "<div>\n",
       "<style scoped>\n",
       "    .dataframe tbody tr th:only-of-type {\n",
       "        vertical-align: middle;\n",
       "    }\n",
       "\n",
       "    .dataframe tbody tr th {\n",
       "        vertical-align: top;\n",
       "    }\n",
       "\n",
       "    .dataframe thead th {\n",
       "        text-align: right;\n",
       "    }\n",
       "</style>\n",
       "<table border=\"1\" class=\"dataframe\">\n",
       "  <thead>\n",
       "    <tr style=\"text-align: right;\">\n",
       "      <th></th>\n",
       "      <th>fecha_trasplante</th>\n",
       "      <th>fecha_muerte</th>\n",
       "      <th>fecha_tope</th>\n",
       "      <th>duracion_dias</th>\n",
       "      <th>muerto</th>\n",
       "    </tr>\n",
       "  </thead>\n",
       "  <tbody>\n",
       "    <tr>\n",
       "      <th>0</th>\n",
       "      <td>2011-01-07</td>\n",
       "      <td>2012-09-14</td>\n",
       "      <td>2012-09-14</td>\n",
       "      <td>616</td>\n",
       "      <td>True</td>\n",
       "    </tr>\n",
       "    <tr>\n",
       "      <th>1</th>\n",
       "      <td>2011-01-18</td>\n",
       "      <td>2012-08-02</td>\n",
       "      <td>2012-08-02</td>\n",
       "      <td>562</td>\n",
       "      <td>True</td>\n",
       "    </tr>\n",
       "    <tr>\n",
       "      <th>2</th>\n",
       "      <td>2011-02-24</td>\n",
       "      <td>NaT</td>\n",
       "      <td>2023-08-16</td>\n",
       "      <td>4556</td>\n",
       "      <td>False</td>\n",
       "    </tr>\n",
       "    <tr>\n",
       "      <th>3</th>\n",
       "      <td>2011-02-24</td>\n",
       "      <td>2022-10-14</td>\n",
       "      <td>2022-10-14</td>\n",
       "      <td>4250</td>\n",
       "      <td>True</td>\n",
       "    </tr>\n",
       "    <tr>\n",
       "      <th>4</th>\n",
       "      <td>2011-04-12</td>\n",
       "      <td>NaT</td>\n",
       "      <td>2023-08-16</td>\n",
       "      <td>4509</td>\n",
       "      <td>False</td>\n",
       "    </tr>\n",
       "    <tr>\n",
       "      <th>...</th>\n",
       "      <td>...</td>\n",
       "      <td>...</td>\n",
       "      <td>...</td>\n",
       "      <td>...</td>\n",
       "      <td>...</td>\n",
       "    </tr>\n",
       "    <tr>\n",
       "      <th>195</th>\n",
       "      <td>2011-01-26</td>\n",
       "      <td>NaT</td>\n",
       "      <td>2023-08-16</td>\n",
       "      <td>4585</td>\n",
       "      <td>False</td>\n",
       "    </tr>\n",
       "    <tr>\n",
       "      <th>196</th>\n",
       "      <td>2011-06-17</td>\n",
       "      <td>NaT</td>\n",
       "      <td>2023-08-16</td>\n",
       "      <td>4443</td>\n",
       "      <td>False</td>\n",
       "    </tr>\n",
       "    <tr>\n",
       "      <th>197</th>\n",
       "      <td>2011-09-15</td>\n",
       "      <td>NaT</td>\n",
       "      <td>2023-08-16</td>\n",
       "      <td>4353</td>\n",
       "      <td>False</td>\n",
       "    </tr>\n",
       "    <tr>\n",
       "      <th>198</th>\n",
       "      <td>2012-11-06</td>\n",
       "      <td>NaT</td>\n",
       "      <td>2023-08-16</td>\n",
       "      <td>3935</td>\n",
       "      <td>False</td>\n",
       "    </tr>\n",
       "    <tr>\n",
       "      <th>199</th>\n",
       "      <td>2012-12-12</td>\n",
       "      <td>NaT</td>\n",
       "      <td>2023-08-16</td>\n",
       "      <td>3899</td>\n",
       "      <td>False</td>\n",
       "    </tr>\n",
       "  </tbody>\n",
       "</table>\n",
       "<p>200 rows × 5 columns</p>\n",
       "</div>"
      ],
      "text/plain": [
       "    fecha_trasplante fecha_muerte fecha_tope  duracion_dias  muerto\n",
       "0         2011-01-07   2012-09-14 2012-09-14            616    True\n",
       "1         2011-01-18   2012-08-02 2012-08-02            562    True\n",
       "2         2011-02-24          NaT 2023-08-16           4556   False\n",
       "3         2011-02-24   2022-10-14 2022-10-14           4250    True\n",
       "4         2011-04-12          NaT 2023-08-16           4509   False\n",
       "..               ...          ...        ...            ...     ...\n",
       "195       2011-01-26          NaT 2023-08-16           4585   False\n",
       "196       2011-06-17          NaT 2023-08-16           4443   False\n",
       "197       2011-09-15          NaT 2023-08-16           4353   False\n",
       "198       2012-11-06          NaT 2023-08-16           3935   False\n",
       "199       2012-12-12          NaT 2023-08-16           3899   False\n",
       "\n",
       "[200 rows x 5 columns]"
      ]
     },
     "execution_count": 32,
     "metadata": {},
     "output_type": "execute_result"
    }
   ],
   "source": [
    "df_sobrevivencia"
   ]
  },
  {
   "cell_type": "code",
   "execution_count": null,
   "metadata": {},
   "outputs": [],
   "source": []
  }
 ],
 "metadata": {
  "kernelspec": {
   "display_name": "trasplants-analysis",
   "language": "python",
   "name": "python3"
  },
  "language_info": {
   "codemirror_mode": {
    "name": "ipython",
    "version": 3
   },
   "file_extension": ".py",
   "mimetype": "text/x-python",
   "name": "python",
   "nbconvert_exporter": "python",
   "pygments_lexer": "ipython3",
   "version": "3.11.5"
  },
  "orig_nbformat": 4
 },
 "nbformat": 4,
 "nbformat_minor": 2
}
