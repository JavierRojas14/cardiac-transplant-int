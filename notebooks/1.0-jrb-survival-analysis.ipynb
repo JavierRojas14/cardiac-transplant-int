{
 "cells": [
  {
   "cell_type": "code",
   "execution_count": 1,
   "metadata": {},
   "outputs": [],
   "source": [
    "import sys\n",
    "import os\n",
    "\n",
    "project_root = os.path.abspath('..')\n",
    "if project_root not in sys.path:\n",
    "    sys.path.append(project_root)\n",
    "\n",
    "%load_ext autoreload\n",
    "%autoreload 2"
   ]
  },
  {
   "cell_type": "code",
   "execution_count": 2,
   "metadata": {},
   "outputs": [],
   "source": [
    "import pandas as pd\n",
    "import numpy as np\n",
    "\n",
    "import matplotlib.pyplot as plt\n",
    "import seaborn as sns\n",
    "\n",
    "\n",
    "from src.features.build_features import calcular_kaplan_meier\n",
    "from src.visualization.visualize import add_dataframes_to_powerpoint\n",
    "\n",
    "COLOR_PALETTE = [\n",
    "    \"#05a298\",\n",
    "    \"#0070bc\",\n",
    "    \"#d06b6d\",\n",
    "    \"#a8e667\",\n",
    "    \"#57832e\",\n",
    "    \"#56ebd3\",\n",
    "    \"#0a4f4e\",\n",
    "    \"#9ecbf4\",\n",
    "]\n",
    "\n",
    "REEMPLAZO_NOMBRE_TRASPLANTES = {\n",
    "    \"33.51 - TRASPLANTE PULMON.UNILATERAL\": \"Trasplante Pulmón Unilateral\",\n",
    "    \"37.51 - TRASPLANTE CARDIACO\": \"Trasplante Cardiaco\",\n",
    "    \"33.52 - TRASPLANTE PULMON.BILATERAL\": \"Trasplante Pulmón Bilateral\",\n",
    "}\n",
    "\n",
    "\n",
    "def find_nearest_index(df, column_name, target_value):\n",
    "    # Calculate the absolute difference\n",
    "    df[\"abs_diff\"] = abs(df[column_name] - target_value)\n",
    "\n",
    "    # Find the index of the row with the minimum absolute difference\n",
    "    nearest_index = df[\"abs_diff\"].idxmin()\n",
    "\n",
    "    return nearest_index\n",
    "\n",
    "\n",
    "sns.set_style(\"ticks\")\n",
    "sns.set_palette(COLOR_PALETTE)\n",
    "plt.rcParams[\"figure.figsize\"] = (12, 6)"
   ]
  },
  {
   "cell_type": "markdown",
   "metadata": {},
   "source": [
    "## Análisis de Sobrevivencia\n",
    "\n",
    "En este cuadernillo se quiere realizar el análisis de sobrevivencia de pacientes con\n",
    "trasplante cardiaco en el Instituto Nacional del Tórax. Para este efecto, se utilizará\n",
    "la base de datos de GRD de pacientes que se hayan realizado un trasplante cardiaco. La base\n",
    "sigue a pacientes entre 2011 hasta el 16/08/2023 del año 2022.\n",
    "\n",
    "Las respuestas que se quieren seguir son las siguientes:\n",
    "\n",
    "- Luego de 2 años del trasplante, ¿Cuál es la probabilidad de que el paciente siga vivo?\n",
    "- Luego de 10 años del trasplante, ¿Cuál es la probabilidad de que el paciente siga vivo?\n",
    "\n",
    "Además, se quiere saber cómo es la curva de sobrevivencia para distintos rangos etarios de\n",
    "pacientes.\n"
   ]
  },
  {
   "cell_type": "code",
   "execution_count": 3,
   "metadata": {},
   "outputs": [],
   "source": [
    "df = pd.read_excel(\"../data/raw/Trasplantes 2011-2022 16082023.xlsx\", sheet_name=\"bdgrd\")"
   ]
  },
  {
   "cell_type": "code",
   "execution_count": 4,
   "metadata": {},
   "outputs": [],
   "source": [
    "fecha_corte = pd.to_datetime(\"16/08/2023\", dayfirst=True)\n",
    "df[\"rango_etario\"] = pd.cut(df[\"Edad en años\"], bins=range(0, 121, 10))\n",
    "df[\"fecha_tope\"] = df[\"Fecha fallecimiento\"].fillna(fecha_corte)\n",
    "df[\"duracion_anios\"] = (df[\"fecha_tope\"] - df[\"1ra Intervención Fecha\"]).dt.days / 365\n",
    "df[\"muerto\"] = df[\"Fecha fallecimiento\"].notna()\n",
    "df[\"anio_intervencion\"] = df[\"1ra Intervención Fecha\"].dt.year.astype(str)"
   ]
  },
  {
   "cell_type": "code",
   "execution_count": 5,
   "metadata": {},
   "outputs": [],
   "source": [
    "RENAME_COLUMNAS = {\n",
    "    \"1ra Intervención Fecha\": \"fecha_trasplante\",\n",
    "    \"Fecha fallecimiento\": \"fecha_muerte\",\n",
    "    \"rango_etario\": \"rango_etario\",\n",
    "    \"Proced 01 Principal (cod+des)\": \"tipo_trasplante\",\n",
    "    \"Diag 01 Principal (cod+des)\": \"diagnostico\",\n",
    "    \"fecha_tope\": \"fecha_tope\",\n",
    "    \"duracion_anios\": \"duracion_anios\",\n",
    "    \"muerto\": \"muerto\",\n",
    "    \"anio_intervencion\": \"anio_intervencion\"\n",
    "}"
   ]
  },
  {
   "cell_type": "code",
   "execution_count": 6,
   "metadata": {},
   "outputs": [],
   "source": [
    "df_sobrevivencia = df[RENAME_COLUMNAS.keys()]\n",
    "df_sobrevivencia = df_sobrevivencia.rename(columns=RENAME_COLUMNAS)\n",
    "df_sobrevivencia[\"tipo_trasplante\"] = df_sobrevivencia[\"tipo_trasplante\"].replace(\n",
    "    REEMPLAZO_NOMBRE_TRASPLANTES\n",
    ")"
   ]
  },
  {
   "cell_type": "code",
   "execution_count": 7,
   "metadata": {},
   "outputs": [
    {
     "data": {
      "text/html": [
       "<div>\n",
       "<style scoped>\n",
       "    .dataframe tbody tr th:only-of-type {\n",
       "        vertical-align: middle;\n",
       "    }\n",
       "\n",
       "    .dataframe tbody tr th {\n",
       "        vertical-align: top;\n",
       "    }\n",
       "\n",
       "    .dataframe thead th {\n",
       "        text-align: right;\n",
       "    }\n",
       "</style>\n",
       "<table border=\"1\" class=\"dataframe\">\n",
       "  <thead>\n",
       "    <tr style=\"text-align: right;\">\n",
       "      <th></th>\n",
       "      <th>fecha_trasplante</th>\n",
       "      <th>fecha_muerte</th>\n",
       "      <th>rango_etario</th>\n",
       "      <th>tipo_trasplante</th>\n",
       "      <th>diagnostico</th>\n",
       "      <th>fecha_tope</th>\n",
       "      <th>duracion_anios</th>\n",
       "      <th>muerto</th>\n",
       "      <th>anio_intervencion</th>\n",
       "    </tr>\n",
       "  </thead>\n",
       "  <tbody>\n",
       "    <tr>\n",
       "      <th>0</th>\n",
       "      <td>2011-01-07</td>\n",
       "      <td>2012-09-14</td>\n",
       "      <td>(50, 60]</td>\n",
       "      <td>Trasplante Pulmón Unilateral</td>\n",
       "      <td>J84.1 - Otras enfermedades pulmonares intersti...</td>\n",
       "      <td>2012-09-14</td>\n",
       "      <td>1.687671</td>\n",
       "      <td>True</td>\n",
       "      <td>2011</td>\n",
       "    </tr>\n",
       "    <tr>\n",
       "      <th>1</th>\n",
       "      <td>2011-01-18</td>\n",
       "      <td>2012-08-02</td>\n",
       "      <td>(50, 60]</td>\n",
       "      <td>Trasplante Pulmón Unilateral</td>\n",
       "      <td>J84.1 - Otras enfermedades pulmonares intersti...</td>\n",
       "      <td>2012-08-02</td>\n",
       "      <td>1.539726</td>\n",
       "      <td>True</td>\n",
       "      <td>2011</td>\n",
       "    </tr>\n",
       "  </tbody>\n",
       "</table>\n",
       "</div>"
      ],
      "text/plain": [
       "  fecha_trasplante fecha_muerte rango_etario               tipo_trasplante  \\\n",
       "0       2011-01-07   2012-09-14     (50, 60]  Trasplante Pulmón Unilateral   \n",
       "1       2011-01-18   2012-08-02     (50, 60]  Trasplante Pulmón Unilateral   \n",
       "\n",
       "                                         diagnostico fecha_tope  \\\n",
       "0  J84.1 - Otras enfermedades pulmonares intersti... 2012-09-14   \n",
       "1  J84.1 - Otras enfermedades pulmonares intersti... 2012-08-02   \n",
       "\n",
       "   duracion_anios  muerto anio_intervencion  \n",
       "0        1.687671    True              2011  \n",
       "1        1.539726    True              2011  "
      ]
     },
     "metadata": {},
     "output_type": "display_data"
    }
   ],
   "source": [
    "display(df_sobrevivencia.head(2))"
   ]
  },
  {
   "cell_type": "code",
   "execution_count": 47,
   "metadata": {},
   "outputs": [
    {
     "data": {
      "image/png": "[encoded data removed]",
      "text/plain": [
       "<Figure size 1200x600 with 1 Axes>"
      ]
     },
     "metadata": {},
     "output_type": "display_data"
    }
   ],
   "source": [
    "SOBREVIDAS_A_ANALIZAR = [5, 10, 12]\n",
    "MARGEN_TEXTO_ARRIBA = 0.012\n",
    "MARGEN_TEXTO_DERECHA = 0.15\n",
    "\n",
    "fig, axis = plt.subplots(1, 1, figsize=(12, 6))\n",
    "for tipo_trasplante in sorted(df_sobrevivencia[\"tipo_trasplante\"].unique()):\n",
    "    df_trasplante = df_sobrevivencia.query(\"tipo_trasplante == @tipo_trasplante\")\n",
    "\n",
    "    resultado_kaplan = calcular_kaplan_meier(df_trasplante, \"duracion_anios\", \"muerto\")\n",
    "\n",
    "#     sns.lineplot(\n",
    "#         resultado_kaplan,\n",
    "#         x=\"tiempo\",\n",
    "#         y=\"probabilidad_sobrevivencia\",\n",
    "#         label=f\"{tipo_trasplante} - n = {df_trasplante.shape[0]}\",\n",
    "#     )\n",
    "#     plt.fill_between(\n",
    "#         resultado_kaplan[\"tiempo\"],\n",
    "#         resultado_kaplan[\"limite_confianza_bajo\"],\n",
    "#         resultado_kaplan[\"limite_confianza_alto\"],\n",
    "#         alpha=0.05,\n",
    "#     )\n",
    "\n",
    "#     for sobrevida in SOBREVIDAS_A_ANALIZAR:\n",
    "#         duracion_a_sobrevida_anios = find_nearest_index(resultado_kaplan, \"tiempo\", sobrevida)\n",
    "#         probabilidad_a_sobrevida_anios = resultado_kaplan.iloc[duracion_a_sobrevida_anios, 1]\n",
    "#         plt.plot(sobrevida, probabilidad_a_sobrevida_anios, color=\"black\", marker=\"o\", markersize=3)\n",
    "#         plt.text(\n",
    "#             sobrevida + MARGEN_TEXTO_DERECHA,\n",
    "#             probabilidad_a_sobrevida_anios + MARGEN_TEXTO_ARRIBA,\n",
    "#             f\"{probabilidad_a_sobrevida_anios:.1f}%\",\n",
    "#             fontsize=12,\n",
    "#         )\n",
    "\n",
    "\n",
    "# # for sobrevida in SOBREVIDAS_A_ANALIZAR:\n",
    "# #     plt.axvline(sobrevida, color=\"gray\", linewidth=1, linestyle=\"--\")\n",
    "\n",
    "# plt.ylim(0, 100)\n",
    "# plt.xlim(left=0)\n",
    "# plt.title(\"Sobrevida a Largo Plazo en Trasplantes Cardíacos y de Pulmón Unilateral/Bilateral\")\n",
    "# plt.xlabel(\"Tiempo (Años)\")\n",
    "# plt.ylabel(\"Sobrevivencia (%)\")\n",
    "# plt.legend(loc=\"lower left\")\n",
    "# plt.tight_layout()\n",
    "# fig.savefig(\"../reports/figures/sobrevida_trasplantes.png\", dpi=700)\n",
    "# plt.show()"
   ]
  },
  {
   "cell_type": "code",
   "execution_count": 42,
   "metadata": {},
   "outputs": [],
   "source": [
    "cuadro_resumen_trasplantes = (\n",
    "    df_sobrevivencia.groupby([\"tipo_trasplante\"])[\"anio_intervencion\"]\n",
    "    .value_counts()\n",
    "    .unstack(fill_value=0)\n",
    "    .reset_index()\n",
    ")"
   ]
  },
  {
   "cell_type": "code",
   "execution_count": 46,
   "metadata": {},
   "outputs": [],
   "source": [
    "add_dataframes_to_powerpoint(\n",
    "    [cuadro_resumen_trasplantes],\n",
    "    \"../reports/presentacion.pptx\",\n",
    "    font_size=11,\n",
    "    cell_width=14,\n",
    "    cell_height=0.5,\n",
    "    font_family=\"Open Sans\",\n",
    "    max_cell_characters=100,\n",
    ")"
   ]
  }
 ],
 "metadata": {
  "kernelspec": {
   "display_name": "trasplants-analysis",
   "language": "python",
   "name": "python3"
  },
  "language_info": {
   "codemirror_mode": {
    "name": "ipython",
    "version": 3
   },
   "file_extension": ".py",
   "mimetype": "text/x-python",
   "name": "python",
   "nbconvert_exporter": "python",
   "pygments_lexer": "ipython3",
   "version": "3.11.5"
  },
  "orig_nbformat": 4
 },
 "nbformat": 4,
 "nbformat_minor": 2
}
