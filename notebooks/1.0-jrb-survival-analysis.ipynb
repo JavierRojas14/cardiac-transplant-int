{
 "cells": [
  {
   "cell_type": "code",
   "execution_count": 1,
   "metadata": {},
   "outputs": [],
   "source": [
    "import pandas as pd\n",
    "import numpy as np\n",
    "\n",
    "import matplotlib.pyplot as plt\n",
    "import seaborn as sns\n",
    "\n",
    "from sksurv.nonparametric import kaplan_meier_estimator\n",
    "\n",
    "import warnings\n",
    "\n",
    "warnings.filterwarnings('ignore')\n",
    "sns.set_style()\n",
    "plt.rcParams['figure.figsize'] = (12, 6)"
   ]
  },
  {
   "cell_type": "markdown",
   "metadata": {},
   "source": [
    "## Análisis de Sobrevivencia\n",
    "\n",
    "En este cuadernillo se quiere realizar el análisis de sobrevivencia de pacientes con\n",
    "trasplante cardiaco en el Instituto Nacional del Tórax. Para este efecto, se utilizará\n",
    "la base de datos de GRD de pacientes que se hayan realizado un trasplante cardiaco. La base\n",
    "sigue a pacientes entre 2011 hasta el 16/08/2023 del año 2022.\n",
    "\n",
    "Las respuestas que se quieren seguir son las siguientes:\n",
    "\n",
    "- Luego de 2 años del trasplante, ¿Cuál es la probabilidad de que el paciente siga vivo?\n",
    "- Luego de 10 años del trasplante, ¿Cuál es la probabilidad de que el paciente siga vivo?\n",
    "\n",
    "Además, se quiere saber cómo es la curva de sobrevivencia para distintos rangos etarios de\n",
    "pacientes."
   ]
  },
  {
   "cell_type": "code",
   "execution_count": 2,
   "metadata": {},
   "outputs": [],
   "source": [
    "df = pd.read_excel(\"../data/raw/Trasplantes 2011-2022 16082023.xlsx\", sheet_name=\"bdgrd\")\n",
    "df[\"rango_etario\"] = pd.cut(df[\"Edad en años\"], bins=range(0, 121, 10))"
   ]
  },
  {
   "cell_type": "code",
   "execution_count": 3,
   "metadata": {},
   "outputs": [],
   "source": [
    "columnas_utiles = [\"1ra Intervención Fecha\", \"Fecha fallecimiento\", \"rango_etario\"]\n",
    "fecha_corte = pd.to_datetime(\"16/08/2023\", dayfirst=True)"
   ]
  },
  {
   "cell_type": "code",
   "execution_count": 4,
   "metadata": {},
   "outputs": [],
   "source": [
    "df_sobrevivencia = df[columnas_utiles].copy()\n",
    "df_sobrevivencia.columns = [\"fecha_trasplante\", \"fecha_muerte\", \"rango_etario\"]"
   ]
  },
  {
   "cell_type": "code",
   "execution_count": 5,
   "metadata": {},
   "outputs": [],
   "source": [
    "df_sobrevivencia[\"fecha_tope\"] = df_sobrevivencia[\"fecha_muerte\"].fillna(fecha_corte)\n",
    "df_sobrevivencia[\"duracion_anios\"] = (\n",
    "    df_sobrevivencia[\"fecha_tope\"] - df_sobrevivencia[\"fecha_trasplante\"]\n",
    ").dt.days / 365\n",
    "df_sobrevivencia[\"muerto\"] = df_sobrevivencia[\"fecha_muerte\"].notna()"
   ]
  },
  {
   "cell_type": "code",
   "execution_count": 6,
   "metadata": {},
   "outputs": [],
   "source": [
    "time, survival_prob, conf_init = kaplan_meier_estimator(\n",
    "    df_sobrevivencia[\"muerto\"], df_sobrevivencia[\"duracion_anios\"], conf_type=\"log-log\"\n",
    ")"
   ]
  },
  {
   "cell_type": "code",
   "execution_count": 7,
   "metadata": {},
   "outputs": [],
   "source": [
    "# plt.step(time, survival_prob, where=\"post\")\n",
    "# plt.fill_between(time, conf_init[0], conf_init[1], alpha=0.25, step=\"post\")\n",
    "# plt.ylim(0, 1)\n",
    "# plt.ylabel(\"est. probability of survival $\\hat{S}(t)$\")\n",
    "# plt.xlabel(\"time $t$\")"
   ]
  },
  {
   "cell_type": "code",
   "execution_count": 8,
   "metadata": {},
   "outputs": [],
   "source": [
    "for rango_etario in df_sobrevivencia[\"rango_etario\"].unique():\n",
    "    df_rango_etario = df_sobrevivencia.query(\"rango_etario == @rango_etario\")\n",
    "    time, survival_prob, conf_int = kaplan_meier_estimator(df_rango_etario[\"muerto\"], \n",
    "                                                           df_rango_etario[\"duracion_anios\"], \n",
    "                                                           conf_type=\"log-log\")\n",
    "    \n",
    "#     plt.step(time, survival_prob, where=\"post\", label=f\"{rango_etario} n = {df_rango_etario.shape[0]}\")\n",
    "#     # plt.fill_between(time, conf_int[0], conf_int[1], alpha=0.25, step=\"post\")\n",
    "\n",
    "# plt.ylim(0, 1)\n",
    "# plt.ylabel(\"est. probability of survival $\\hat{S}(t)$\")\n",
    "# plt.xlabel(\"time $t$\")\n",
    "# plt.legend(loc=\"best\")"
   ]
  }
 ],
 "metadata": {
  "kernelspec": {
   "display_name": "trasplants-analysis",
   "language": "python",
   "name": "python3"
  },
  "language_info": {
   "codemirror_mode": {
    "name": "ipython",
    "version": 3
   },
   "file_extension": ".py",
   "mimetype": "text/x-python",
   "name": "python",
   "nbconvert_exporter": "python",
   "pygments_lexer": "ipython3",
   "version": "3.11.5"
  },
  "orig_nbformat": 4
 },
 "nbformat": 4,
 "nbformat_minor": 2
}
