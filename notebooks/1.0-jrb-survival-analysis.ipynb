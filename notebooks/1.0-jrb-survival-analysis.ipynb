{
 "cells": [
  {
   "cell_type": "code",
   "execution_count": 29,
   "metadata": {},
   "outputs": [
    {
     "name": "stdout",
     "output_type": "stream",
     "text": [
      "The autoreload extension is already loaded. To reload it, use:\n",
      "  %reload_ext autoreload\n"
     ]
    }
   ],
   "source": [
    "import sys\n",
    "import os\n",
    "\n",
    "project_root = os.path.abspath('..')\n",
    "if project_root not in sys.path:\n",
    "    sys.path.append(project_root)\n",
    "\n",
    "%load_ext autoreload\n",
    "%autoreload 2"
   ]
  },
  {
   "cell_type": "code",
   "execution_count": 30,
   "metadata": {},
   "outputs": [],
   "source": [
    "import pandas as pd\n",
    "import numpy as np\n",
    "\n",
    "import matplotlib.pyplot as plt\n",
    "import seaborn as sns\n",
    "\n",
    "\n",
    "from src.features.build_features import calcular_kaplan_meier\n",
    "\n",
    "\n",
    "sns.set_style()\n",
    "plt.rcParams[\"figure.figsize\"] = (12, 6)"
   ]
  },
  {
   "cell_type": "markdown",
   "metadata": {},
   "source": [
    "## Análisis de Sobrevivencia\n",
    "\n",
    "En este cuadernillo se quiere realizar el análisis de sobrevivencia de pacientes con\n",
    "trasplante cardiaco en el Instituto Nacional del Tórax. Para este efecto, se utilizará\n",
    "la base de datos de GRD de pacientes que se hayan realizado un trasplante cardiaco. La base\n",
    "sigue a pacientes entre 2011 hasta el 16/08/2023 del año 2022.\n",
    "\n",
    "Las respuestas que se quieren seguir son las siguientes:\n",
    "\n",
    "- Luego de 2 años del trasplante, ¿Cuál es la probabilidad de que el paciente siga vivo?\n",
    "- Luego de 10 años del trasplante, ¿Cuál es la probabilidad de que el paciente siga vivo?\n",
    "\n",
    "Además, se quiere saber cómo es la curva de sobrevivencia para distintos rangos etarios de\n",
    "pacientes.\n"
   ]
  },
  {
   "cell_type": "code",
   "execution_count": 31,
   "metadata": {},
   "outputs": [],
   "source": [
    "df = pd.read_excel(\"../data/raw/Trasplantes 2011-2022 16082023.xlsx\", sheet_name=\"bdgrd\")"
   ]
  },
  {
   "cell_type": "code",
   "execution_count": 32,
   "metadata": {},
   "outputs": [],
   "source": [
    "fecha_corte = pd.to_datetime(\"16/08/2023\", dayfirst=True)\n",
    "df[\"rango_etario\"] = pd.cut(df[\"Edad en años\"], bins=range(0, 121, 10))\n",
    "df[\"fecha_tope\"] = df[\"Fecha fallecimiento\"].fillna(fecha_corte)\n",
    "df[\"duracion_anios\"] = (df[\"fecha_tope\"] - df[\"1ra Intervención Fecha\"]).dt.days / 365\n",
    "df[\"muerto\"] = df[\"Fecha fallecimiento\"].notna()"
   ]
  },
  {
   "cell_type": "code",
   "execution_count": 33,
   "metadata": {},
   "outputs": [],
   "source": [
    "RENAME_COLUMNAS = {\n",
    "    \"1ra Intervención Fecha\": \"fecha_trasplante\",\n",
    "    \"Fecha fallecimiento\": \"fecha_muerte\",\n",
    "    \"rango_etario\": \"rango_etario\",\n",
    "    \"Proced 01 Principal (cod+des)\": \"tipo_trasplante\",\n",
    "    \"Diag 01 Principal (cod+des)\": \"diagnostico\",\n",
    "    \"fecha_tope\": \"fecha_tope\",\n",
    "    \"duracion_anios\": \"duracion_anios\",\n",
    "    \"muerto\": \"muerto\",\n",
    "}"
   ]
  },
  {
   "cell_type": "code",
   "execution_count": 34,
   "metadata": {},
   "outputs": [],
   "source": [
    "df_sobrevivencia = df[RENAME_COLUMNAS.keys()]\n",
    "df_sobrevivencia = df_sobrevivencia.rename(columns=RENAME_COLUMNAS)"
   ]
  },
  {
   "cell_type": "code",
   "execution_count": 35,
   "metadata": {},
   "outputs": [
    {
     "data": {
      "text/html": [
       "<div>\n",
       "<style scoped>\n",
       "    .dataframe tbody tr th:only-of-type {\n",
       "        vertical-align: middle;\n",
       "    }\n",
       "\n",
       "    .dataframe tbody tr th {\n",
       "        vertical-align: top;\n",
       "    }\n",
       "\n",
       "    .dataframe thead th {\n",
       "        text-align: right;\n",
       "    }\n",
       "</style>\n",
       "<table border=\"1\" class=\"dataframe\">\n",
       "  <thead>\n",
       "    <tr style=\"text-align: right;\">\n",
       "      <th></th>\n",
       "      <th>fecha_trasplante</th>\n",
       "      <th>fecha_muerte</th>\n",
       "      <th>rango_etario</th>\n",
       "      <th>tipo_trasplante</th>\n",
       "      <th>diagnostico</th>\n",
       "      <th>fecha_tope</th>\n",
       "      <th>duracion_anios</th>\n",
       "      <th>muerto</th>\n",
       "    </tr>\n",
       "  </thead>\n",
       "  <tbody>\n",
       "    <tr>\n",
       "      <th>0</th>\n",
       "      <td>2011-01-07</td>\n",
       "      <td>2012-09-14</td>\n",
       "      <td>(50, 60]</td>\n",
       "      <td>33.51 - TRASPLANTE PULMON.UNILATERAL</td>\n",
       "      <td>J84.1 - Otras enfermedades pulmonares intersti...</td>\n",
       "      <td>2012-09-14</td>\n",
       "      <td>1.687671</td>\n",
       "      <td>True</td>\n",
       "    </tr>\n",
       "    <tr>\n",
       "      <th>1</th>\n",
       "      <td>2011-01-18</td>\n",
       "      <td>2012-08-02</td>\n",
       "      <td>(50, 60]</td>\n",
       "      <td>33.51 - TRASPLANTE PULMON.UNILATERAL</td>\n",
       "      <td>J84.1 - Otras enfermedades pulmonares intersti...</td>\n",
       "      <td>2012-08-02</td>\n",
       "      <td>1.539726</td>\n",
       "      <td>True</td>\n",
       "    </tr>\n",
       "    <tr>\n",
       "      <th>2</th>\n",
       "      <td>2011-02-24</td>\n",
       "      <td>NaT</td>\n",
       "      <td>(50, 60]</td>\n",
       "      <td>37.51 - TRASPLANTE CARDIACO</td>\n",
       "      <td>I42.0 - Cardiomiopatía dilatada</td>\n",
       "      <td>2023-08-16</td>\n",
       "      <td>12.482192</td>\n",
       "      <td>False</td>\n",
       "    </tr>\n",
       "    <tr>\n",
       "      <th>3</th>\n",
       "      <td>2011-02-24</td>\n",
       "      <td>2022-10-14</td>\n",
       "      <td>(40, 50]</td>\n",
       "      <td>33.51 - TRASPLANTE PULMON.UNILATERAL</td>\n",
       "      <td>J84.1 - Otras enfermedades pulmonares intersti...</td>\n",
       "      <td>2022-10-14</td>\n",
       "      <td>11.643836</td>\n",
       "      <td>True</td>\n",
       "    </tr>\n",
       "    <tr>\n",
       "      <th>4</th>\n",
       "      <td>2011-04-12</td>\n",
       "      <td>NaT</td>\n",
       "      <td>(50, 60]</td>\n",
       "      <td>33.51 - TRASPLANTE PULMON.UNILATERAL</td>\n",
       "      <td>J84.1 - Otras enfermedades pulmonares intersti...</td>\n",
       "      <td>2023-08-16</td>\n",
       "      <td>12.353425</td>\n",
       "      <td>False</td>\n",
       "    </tr>\n",
       "  </tbody>\n",
       "</table>\n",
       "</div>"
      ],
      "text/plain": [
       "  fecha_trasplante fecha_muerte rango_etario  \\\n",
       "0       2011-01-07   2012-09-14     (50, 60]   \n",
       "1       2011-01-18   2012-08-02     (50, 60]   \n",
       "2       2011-02-24          NaT     (50, 60]   \n",
       "3       2011-02-24   2022-10-14     (40, 50]   \n",
       "4       2011-04-12          NaT     (50, 60]   \n",
       "\n",
       "                        tipo_trasplante  \\\n",
       "0  33.51 - TRASPLANTE PULMON.UNILATERAL   \n",
       "1  33.51 - TRASPLANTE PULMON.UNILATERAL   \n",
       "2           37.51 - TRASPLANTE CARDIACO   \n",
       "3  33.51 - TRASPLANTE PULMON.UNILATERAL   \n",
       "4  33.51 - TRASPLANTE PULMON.UNILATERAL   \n",
       "\n",
       "                                         diagnostico fecha_tope  \\\n",
       "0  J84.1 - Otras enfermedades pulmonares intersti... 2012-09-14   \n",
       "1  J84.1 - Otras enfermedades pulmonares intersti... 2012-08-02   \n",
       "2                    I42.0 - Cardiomiopatía dilatada 2023-08-16   \n",
       "3  J84.1 - Otras enfermedades pulmonares intersti... 2022-10-14   \n",
       "4  J84.1 - Otras enfermedades pulmonares intersti... 2023-08-16   \n",
       "\n",
       "   duracion_anios  muerto  \n",
       "0        1.687671    True  \n",
       "1        1.539726    True  \n",
       "2       12.482192   False  \n",
       "3       11.643836    True  \n",
       "4       12.353425   False  "
      ]
     },
     "metadata": {},
     "output_type": "display_data"
    }
   ],
   "source": [
    "display(df_sobrevivencia.head())"
   ]
  },
  {
   "cell_type": "code",
   "execution_count": 36,
   "metadata": {},
   "outputs": [],
   "source": [
    "for tipo_trasplante in df_sobrevivencia[\"tipo_trasplante\"].unique():\n",
    "    df_trasplante = df_sobrevivencia.query(\"tipo_trasplante == @tipo_trasplante\")\n",
    "    resultado_kaplan = calcular_kaplan_meier(df_trasplante, \"duracion_anios\", \"muerto\")\n",
    "#     sns.lineplot(\n",
    "#         resultado_kaplan,\n",
    "#         x=\"tiempo\",\n",
    "#         y=\"probabilidad_sobrevivencia\",\n",
    "#         label=f\"{tipo_trasplante} - n = {df_trasplante.shape[0]}\",\n",
    "#     )\n",
    "#     plt.fill_between(\n",
    "#         resultado_kaplan[\"tiempo\"],\n",
    "#         resultado_kaplan[\"limite_confianza_bajo\"],\n",
    "#         resultado_kaplan[\"limite_confianza_alto\"],\n",
    "#         alpha=0.05\n",
    "#     )\n",
    "#     sns.scatterplot(x=10, y=)\n",
    "\n",
    "# plt.axvline(10, linestyle=\"--\", color=\"black\")\n",
    "# plt.ylim(0, 1)\n",
    "# plt.show()"
   ]
  }
 ],
 "metadata": {
  "kernelspec": {
   "display_name": "trasplants-analysis",
   "language": "python",
   "name": "python3"
  },
  "language_info": {
   "codemirror_mode": {
    "name": "ipython",
    "version": 3
   },
   "file_extension": ".py",
   "mimetype": "text/x-python",
   "name": "python",
   "nbconvert_exporter": "python",
   "pygments_lexer": "ipython3",
   "version": "3.11.5"
  },
  "orig_nbformat": 4
 },
 "nbformat": 4,
 "nbformat_minor": 2
}
